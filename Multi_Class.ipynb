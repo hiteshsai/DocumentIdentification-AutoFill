{
 "cells": [
  {
   "cell_type": "code",
   "execution_count": 1,
   "metadata": {},
   "outputs": [
    {
     "name": "stderr",
     "output_type": "stream",
     "text": [
      "Using TensorFlow backend.\n",
      "C:\\Users\\hitesh.jonnalagadda\\Anaconda3\\envs\\py36\\lib\\site-packages\\ipykernel_launcher.py:19: UserWarning: Update your `Conv2D` call to the Keras 2 API: `Conv2D(32, (3, 3), activation=\"relu\")`\n",
      "C:\\Users\\hitesh.jonnalagadda\\Anaconda3\\envs\\py36\\lib\\site-packages\\ipykernel_launcher.py:22: UserWarning: Update your `Conv2D` call to the Keras 2 API: `Conv2D(32, (3, 3), activation=\"relu\")`\n",
      "C:\\Users\\hitesh.jonnalagadda\\Anaconda3\\envs\\py36\\lib\\site-packages\\ipykernel_launcher.py:28: UserWarning: Update your `Dense` call to the Keras 2 API: `Dense(activation=\"relu\", units=200)`\n",
      "C:\\Users\\hitesh.jonnalagadda\\Anaconda3\\envs\\py36\\lib\\site-packages\\ipykernel_launcher.py:30: UserWarning: Update your `Dense` call to the Keras 2 API: `Dense(activation=\"sigmoid\", units=3)`\n"
     ]
    }
   ],
   "source": [
    "# Import Statements\n",
    "from keras.layers import Dense\n",
    "from keras.models import Sequential\n",
    "from keras.layers import Convolution2D\n",
    "from keras.layers import MaxPool2D\n",
    "from keras.layers import Flatten\n",
    "\n",
    "#Initialising CNN\n",
    "classifier = Sequential()\n",
    "\n",
    "#Adding Convolution Layer 1\n",
    "\n",
    "classifier.add(Convolution2D(32,(3,3),input_shape=(64,64,3),activation='relu'))\n",
    "#Pooling\n",
    "classifier.add(MaxPool2D(pool_size=(2,2)))\n",
    "\n",
    "#Adding Convolution Layer 2\n",
    "\n",
    "classifier.add(Convolution2D(32,3,3,activation='relu'))\n",
    "classifier.add(MaxPool2D(pool_size=(2,2)))\n",
    "\n",
    "classifier.add(Convolution2D(32,3,3,activation='relu'))\n",
    "classifier.add(MaxPool2D(pool_size=(2,2)))\n",
    "#Flatten\n",
    "classifier.add(Flatten())\n",
    "\n",
    "#Full Connection\n",
    "classifier.add(Dense(output_dim=200,activation='relu'))\n",
    "#classifier.add(Dense(output_dim=64,activation='relu'))\n",
    "classifier.add(Dense(output_dim=3,activation='sigmoid')) #output\n",
    "\n",
    "#compile\n",
    "classifier.compile(optimizer='adam',loss='binary_crossentropy',metrics=['accuracy'])\n",
    "\n",
    "#Fitting the model to images\n"
   ]
  },
  {
   "cell_type": "code",
   "execution_count": 2,
   "metadata": {},
   "outputs": [
    {
     "name": "stdout",
     "output_type": "stream",
     "text": [
      "Found 480 images belonging to 3 classes.\n",
      "Found 120 images belonging to 3 classes.\n",
      "Epoch 1/5\n",
      "200/200 [==============================] - 60s 298ms/step - loss: 0.0470 - acc: 0.9784 - val_loss: 1.0643e-07 - val_acc: 1.0000\n",
      "Epoch 2/5\n",
      "200/200 [==============================] - 56s 280ms/step - loss: 3.5012e-07 - acc: 1.0000 - val_loss: 1.1099e-07 - val_acc: 1.0000\n",
      "Epoch 3/5\n",
      "200/200 [==============================] - 56s 278ms/step - loss: 2.6452e-07 - acc: 1.0000 - val_loss: 1.1250e-07 - val_acc: 1.0000\n",
      "Epoch 4/5\n",
      "200/200 [==============================] - 74s 369ms/step - loss: 2.2175e-07 - acc: 1.0000 - val_loss: 1.1057e-07 - val_acc: 1.0000\n",
      "Epoch 5/5\n",
      "200/200 [==============================] - 56s 278ms/step - loss: 1.9808e-07 - acc: 1.0000 - val_loss: 1.0889e-07 - val_acc: 1.0000\n"
     ]
    },
    {
     "data": {
      "text/plain": [
       "<keras.callbacks.History at 0xe921390>"
      ]
     },
     "execution_count": 2,
     "metadata": {},
     "output_type": "execute_result"
    }
   ],
   "source": [
    "from keras.preprocessing.image import ImageDataGenerator\n",
    "train_datagen = ImageDataGenerator(rescale=1./255,\n",
    "                                   shear_range=0.2,\n",
    "                                   zoom_range=0.2,\n",
    "                                   horizontal_flip=True)\n",
    "\n",
    "test_datagen= ImageDataGenerator(rescale=1./255)\n",
    "\n",
    "training_set = train_datagen.flow_from_directory('C:/Users/hitesh.jonnalagadda/Desktop/DL_Project/train-final/',target_size=(64,64),batch_size=32,class_mode='categorical')\n",
    "\n",
    "test_set = test_datagen.flow_from_directory('C:/Users/hitesh.jonnalagadda/Desktop/DL_Project/test-final/',target_size=(64,64),batch_size=32,class_mode='categorical')\n",
    "\n",
    "                                                       \n",
    "                                                        \n",
    "classifier.fit_generator(training_set,\n",
    "                        steps_per_epoch=200,\n",
    "                        epochs=5,\n",
    "                        validation_data=test_set,\n",
    "                        validation_steps=50,\n",
    "                        workers=8\n",
    "                        )\n"
   ]
  },
  {
   "cell_type": "code",
   "execution_count": 3,
   "metadata": {},
   "outputs": [
    {
     "name": "stdout",
     "output_type": "stream",
     "text": [
      "{'ap': 0, 'bihar': 1, 'mp': 2}\n",
      "mp\n"
     ]
    }
   ],
   "source": [
    "import numpy as np\n",
    "from keras.preprocessing import image\n",
    "test_image = image.load_img('C:/Users/hitesh.jonnalagadda/Desktop/DL_Project/Synthetic_Cards/input/DRIVING_LICENSE.jpg', target_size = (64,64))\n",
    "test_image = image.img_to_array(test_image)\n",
    "test_image = np.expand_dims(test_image, axis = 0)\n",
    "result = classifier.predict(test_image)\n",
    "training_set.class_indices\n",
    "print(training_set.class_indices)                                                                                                                \n",
    "#print(result[0][0])\n",
    "if result[0][0]== 1:\n",
    "    prediction = 'ap'\n",
    "    print(\"ap\")\n",
    "elif result[0][1] == 1:\n",
    "    prediction = 'bihar'\n",
    "    print(\"bihar\")\n",
    "elif  result[0][2] == 1:\n",
    "    prediction = 'mp'\n",
    "    print(\"mp\")    \n"
   ]
  },
  {
   "cell_type": "code",
   "execution_count": 4,
   "metadata": {},
   "outputs": [
    {
     "name": "stdout",
     "output_type": "stream",
     "text": [
      "Loaded CNN ::  <keras.engine.sequential.Sequential object at 0x000000000F2B2F98>\n"
     ]
    }
   ],
   "source": [
    "import pickle\n",
    "\n",
    "file = 'cnn.pkl'\n",
    "# Open the file to save as pkl file\n",
    "cnn_pkl = open(file, 'wb')\n",
    "pickle.dump(classifier, cnn_pkl)\n",
    "# Close the pickle instances\n",
    "cnn_pkl.close()\n",
    "cnn_pkl = open(file, 'rb')\n",
    "cnn = pickle.load(cnn_pkl)\n",
    "print(\"Loaded CNN :: \", cnn)"
   ]
  },
  {
   "cell_type": "code",
   "execution_count": null,
   "metadata": {},
   "outputs": [],
   "source": []
  }
 ],
 "metadata": {
  "kernelspec": {
   "display_name": "Python 3",
   "language": "python",
   "name": "python3"
  },
  "language_info": {
   "codemirror_mode": {
    "name": "ipython",
    "version": 3
   },
   "file_extension": ".py",
   "mimetype": "text/x-python",
   "name": "python",
   "nbconvert_exporter": "python",
   "pygments_lexer": "ipython3",
   "version": "3.6.7"
  }
 },
 "nbformat": 4,
 "nbformat_minor": 2
}
