{
 "cells": [
  {
   "cell_type": "code",
   "execution_count": 1,
   "metadata": {},
   "outputs": [
    {
     "name": "stderr",
     "output_type": "stream",
     "text": [
      "Using TensorFlow backend.\n"
     ]
    }
   ],
   "source": [
    "from keras.layers import Dense\n",
    "from keras.models import Sequential\n",
    "from keras.layers import Convolution2D\n",
    "from keras.layers import MaxPool2D\n",
    "from keras.layers import Flatten"
   ]
  },
  {
   "cell_type": "code",
   "execution_count": 2,
   "metadata": {},
   "outputs": [],
   "source": [
    "classifier = Sequential()"
   ]
  },
  {
   "cell_type": "code",
   "execution_count": 3,
   "metadata": {},
   "outputs": [],
   "source": [
    "\n",
    "#Adding Convolution Layer 1\n",
    "\n",
    "classifier.add(Convolution2D(60,(3,3),input_shape=(128,128,3),activation='relu'))\n",
    "#Pooling\n",
    "classifier.add(MaxPool2D(pool_size=(2,2)))\n"
   ]
  },
  {
   "cell_type": "code",
   "execution_count": 4,
   "metadata": {},
   "outputs": [],
   "source": [
    "#Adding Convolution Layer 2\n",
    "\n",
    "classifier.add(Convolution2D(30,(3,3),activation='relu'))\n",
    "classifier.add(MaxPool2D(pool_size=(2,2)))"
   ]
  },
  {
   "cell_type": "code",
   "execution_count": 5,
   "metadata": {},
   "outputs": [],
   "source": [
    "#Flatten\n",
    "classifier.add(Flatten())"
   ]
  },
  {
   "cell_type": "code",
   "execution_count": 6,
   "metadata": {},
   "outputs": [],
   "source": [
    "#Full Connection\n",
    "classifier.add(Dense(activation='relu',units=128))\n",
    "#classifier.add(Dense(output_dim=64,activation='relu'))\n",
    "classifier.add(Dense(activation='sigmoid',units=3))"
   ]
  },
  {
   "cell_type": "code",
   "execution_count": 7,
   "metadata": {},
   "outputs": [],
   "source": [
    "classifier.compile(optimizer='adam',loss='binary_crossentropy',metrics=['accuracy'])"
   ]
  },
  {
   "cell_type": "code",
   "execution_count": null,
   "metadata": {},
   "outputs": [
    {
     "name": "stdout",
     "output_type": "stream",
     "text": [
      "Found 480 images belonging to 3 classes.\n",
      "Found 119 images belonging to 3 classes.\n",
      "Epoch 1/2\n",
      "50/50 [==============================] - 86s 2s/step - loss: 0.1030 - acc: 0.9631 - val_loss: 1.2605e-06 - val_acc: 1.0000\n",
      "Epoch 2/2\n",
      " 2/50 [>.............................] - ETA: 1:13 - loss: 7.5403e-06 - acc: 1.0000"
     ]
    }
   ],
   "source": [
    "from keras.preprocessing.image import ImageDataGenerator\n",
    "train_datagen = ImageDataGenerator(rescale=1./255,\n",
    "                                   shear_range=0.2,\n",
    "                                   zoom_range=0.2,\n",
    "                                   horizontal_flip=True)\n",
    "\n",
    "test_datagen= ImageDataGenerator(rescale=1./255)\n",
    "\n",
    "training_set = train_datagen.flow_from_directory('train',\n",
    "                                                    target_size=(128,128),\n",
    "                                                    batch_size=32,\n",
    "                                                    class_mode='categorical')\n",
    "\n",
    "test_set = test_datagen.flow_from_directory('test',\n",
    "                                                        target_size=(128,128),\n",
    "                                                        batch_size=32,\n",
    "                                                        class_mode='categorical')\n",
    "\n",
    "classifier.fit_generator(training_set,\n",
    "                        steps_per_epoch=50,\n",
    "                        epochs=2,\n",
    "                        validation_data=test_set,\n",
    "                        validation_steps=25,\n",
    "                        workers=4\n",
    "                        )"
   ]
  },
  {
   "cell_type": "code",
   "execution_count": 9,
   "metadata": {},
   "outputs": [
    {
     "name": "stdout",
     "output_type": "stream",
     "text": [
      "MP\n"
     ]
    }
   ],
   "source": [
    "import numpy as np\n",
    "import cv2\n",
    "from keras.preprocessing import image\n",
    "test_image = image.load_img('mpbp.jpg', target_size = (128, 128))\n",
    "test_image = image.img_to_array(test_image)\n",
    "test_image = np.expand_dims(test_image, axis = 0)\n",
    "result = classifier.predict(test_image)\n",
    "training_set.class_indices\n",
    "if result[0][0] == 1:\n",
    "    prediction = 'AP'\n",
    "elif result[0][1]==1:\n",
    "    prediction = 'Bihar'\n",
    "elif result[0][2]==1:\n",
    "    prediction=\"MP\"\n",
    "print(prediction)"
   ]
  },
  {
   "cell_type": "code",
   "execution_count": 10,
   "metadata": {},
   "outputs": [],
   "source": [
    "import pickle"
   ]
  },
  {
   "cell_type": "code",
   "execution_count": 11,
   "metadata": {},
   "outputs": [],
   "source": [
    "\n",
    "file = 'cnn.pkl'\n",
    "# Open the file to save as pkl file\n",
    "cnn_pkl = open(file, 'wb')\n",
    "pickle.dump(classifier, cnn_pkl)\n",
    "# Close the pickle instances\n",
    "cnn_pkl.close()"
   ]
  },
  {
   "cell_type": "code",
   "execution_count": 12,
   "metadata": {},
   "outputs": [
    {
     "name": "stdout",
     "output_type": "stream",
     "text": [
      "Loaded CNN ::  <keras.engine.sequential.Sequential object at 0x000000000D705940>\n"
     ]
    }
   ],
   "source": [
    "cnn_pkl = open(file, 'rb')\n",
    "cnn = pickle.load(cnn_pkl)\n",
    "print(\"Loaded CNN :: \", cnn)"
   ]
  },
  {
   "cell_type": "code",
   "execution_count": null,
   "metadata": {},
   "outputs": [],
   "source": []
  }
 ],
 "metadata": {
  "kernelspec": {
   "display_name": "Python 3",
   "language": "python",
   "name": "python3"
  },
  "language_info": {
   "codemirror_mode": {
    "name": "ipython",
    "version": 3
   },
   "file_extension": ".py",
   "mimetype": "text/x-python",
   "name": "python",
   "nbconvert_exporter": "python",
   "pygments_lexer": "ipython3",
   "version": "3.6.7"
  }
 },
 "nbformat": 4,
 "nbformat_minor": 2
}
